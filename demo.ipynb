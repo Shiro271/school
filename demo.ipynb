{
 "cells": [
  {
   "cell_type": "code",
   "execution_count": 1,
   "id": "792ac294-47d6-42fe-815c-e4a4bc9c7579",
   "metadata": {},
   "outputs": [
    {
     "data": {
      "application/vnd.jupyter.widget-view+json": {
       "model_id": "38f7bd73c79a4d2c950b7119c5f61d71",
       "version_major": 2,
       "version_minor": 0
      },
      "text/plain": [
       "HBox(children=(Dropdown(layout=Layout(height='25px', margin='20px', width='45px'), options=(' ', 'a', 'b', 'c'…"
      ]
     },
     "metadata": {},
     "output_type": "display_data"
    },
    {
     "data": {
      "application/vnd.jupyter.widget-view+json": {
       "model_id": "8a6eb7d48bba452cb998477e7b24b21c",
       "version_major": 2,
       "version_minor": 0
      },
      "text/plain": [
       "HBox(children=(Button(description='0', layout=Layout(height='80px', margin='20px', width='80px'), style=Button…"
      ]
     },
     "metadata": {},
     "output_type": "display_data"
    },
    {
     "data": {
      "application/vnd.jupyter.widget-view+json": {
       "model_id": "522c7680b5e0478cad86ef227d61f4c8",
       "version_major": 2,
       "version_minor": 0
      },
      "text/plain": [
       "HBox(children=(HTML(value='<p style=\"text-align:center; font-size:20px;\"><b>0</b></p>'),), layout=Layout(justi…"
      ]
     },
     "metadata": {},
     "output_type": "display_data"
    }
   ],
   "source": [
    "import ipywidgets as widgets\n",
    "from IPython.display import display, HTML, clear_output\n",
    "import enigma\n",
    "import encryptingImage\n",
    "import decryptingImage\n",
    "from PIL import Image\n",
    "\n",
    "number = widgets.HTML(value='<p style=\"text-align:center; font-size:20px;\"><b>0</b></p>')\n",
    "\n",
    "letterSelector = widgets.Dropdown(\n",
    "    options=[\" \",\"a\",\"b\",\"c\",\"d\",\"e\",\"f\",\"g\",\"h\",\"i\",\"j\",\"k\",\"l\",\"m\",\"n\",\"o\",\"p\",\"q\",\"r\",\"s\",\"t\",\"u\",\"v\",\"w\",\"x\",\"y\",\"z\"],\n",
    "    value=' ',\n",
    "    layout=widgets.Layout(height=\"25px\", width=\"45px\", margin='20px')\n",
    ")\n",
    "\n",
    "letterToBinary = {\n",
    "    \" \" : \"00000\",\n",
    "    \"a\" : \"00001\",\n",
    "    \"b\" : \"00010\",\n",
    "    \"c\" : \"00011\",\n",
    "    \"d\" : \"00100\",\n",
    "    \"e\" : \"00101\",\n",
    "    \"f\" : \"00110\",\n",
    "    \"g\" : \"00111\",\n",
    "    \"h\" : \"01000\",\n",
    "    \"i\" : \"01001\",\n",
    "    \"j\" : \"01010\",\n",
    "    \"k\" : \"01011\",\n",
    "    \"l\" : \"01100\",\n",
    "    \"m\" : \"01101\",\n",
    "    \"n\" : \"01110\",\n",
    "    \"o\" : \"01111\",\n",
    "    \"p\" : \"10000\",\n",
    "    \"q\" : \"10001\",\n",
    "    \"r\" : \"10010\",\n",
    "    \"s\" : \"10011\",\n",
    "    \"t\" : \"10100\",\n",
    "    \"u\" : \"10101\",\n",
    "    \"v\" : \"10110\",\n",
    "    \"w\" : \"10111\",\n",
    "    \"x\" : \"11000\",\n",
    "    \"y\" : \"11001\",\n",
    "    \"z\" : \"11010\"\n",
    "}\n",
    "\n",
    "\n",
    "def button():\n",
    "\n",
    "    bitButton = widgets.Button(description='0', layout=widgets.Layout(height=\"80px\", width=\"80px\", margin='20px'))\n",
    "    bitButton.style.button_color = 'red'\n",
    "\n",
    "    bitButton.on_click(changeBit)\n",
    "\n",
    "    return bitButton\n",
    "    \n",
    "def changeBit(b):\n",
    "    if b.description == \"0\":\n",
    "        b.description = \"1\"\n",
    "        b.style.button_color = 'green'\n",
    "    else:\n",
    "        b.description = \"0\"\n",
    "        b.style.button_color = 'red'\n",
    "    changeNumber()\n",
    "    updateLetter()\n",
    "\n",
    "    \n",
    "\n",
    "def changeNumber():\n",
    "    bitSeq = ''.join(button.description for button in buttons)\n",
    "    num = 0\n",
    "    exponent = numButtons - 1\n",
    "    for bit in bitSeq:\n",
    "        if bit == \"1\": num += 2 ** exponent\n",
    "        exponent -= 1\n",
    "\n",
    "    number.value = f'<p style=\"text-align:center; font-size:20px;\"><b>{num}</b></p>'\n",
    "\n",
    "\n",
    "numButtons = 5\n",
    "\n",
    "buttons = [button() for _ in range(numButtons)]\n",
    "\n",
    "def get_key(val, dict):\n",
    "        for key, value in dict.items():\n",
    "            if val == value:\n",
    "                return key\n",
    "        return \"No Match\"\n",
    "\n",
    "def updateLetter():\n",
    "    seq = \"\"\n",
    "    for bit in buttons:\n",
    "        seq += bit.description\n",
    "    if get_key(seq, letterToBinary) == \"No Match\":\n",
    "        letterSelector.value = \" \"\n",
    "        return\n",
    "    letterSelector.value = get_key(seq, letterToBinary)\n",
    "    \n",
    "\n",
    "def updateBits(change):\n",
    "    seq = letterToBinary[letterSelector.value]\n",
    "    for i in range(len(buttons)):\n",
    "        buttons[i].description = seq[i]\n",
    "        if seq[i] == \"0\":\n",
    "            buttons[i].style.button_color = 'red'\n",
    "        else:\n",
    "            buttons[i].style.button_color = 'green'\n",
    "    changeNumber()\n",
    "    \n",
    "\n",
    "letterSelector.observe(updateBits, names='value')\n",
    "\n",
    "\n",
    "\n",
    "letterBox = widgets.HBox([letterSelector], layout=widgets.Layout(justify_content=\"center\"))\n",
    "bitBox = widgets.HBox(buttons, layout=widgets.Layout(justify_content=\"center\"))\n",
    "numBox = widgets.HBox([number], layout=widgets.Layout(justify_content=\"center\"))\n",
    "\n",
    "display(letterBox)\n",
    "display(bitBox)\n",
    "display(numBox)"
   ]
  },
  {
   "cell_type": "code",
   "execution_count": null,
   "id": "555cf3bf-30ba-4410-85db-faf68029a992",
   "metadata": {},
   "outputs": [],
   "source": []
  }
 ],
 "metadata": {
  "kernelspec": {
   "display_name": "Python 3 (ipykernel)",
   "language": "python",
   "name": "python3"
  },
  "language_info": {
   "codemirror_mode": {
    "name": "ipython",
    "version": 3
   },
   "file_extension": ".py",
   "mimetype": "text/x-python",
   "name": "python",
   "nbconvert_exporter": "python",
   "pygments_lexer": "ipython3",
   "version": "3.10.13"
  }
 },
 "nbformat": 4,
 "nbformat_minor": 5
}
