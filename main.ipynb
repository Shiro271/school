{
 "cells": [
  {
   "cell_type": "markdown",
   "id": "53d13164-64de-4dd6-b324-098bd2d57847",
   "metadata": {},
   "source": [
    "# Kryptographie\n",
    "***\n",
    "### 1.Enigma\n",
    ">#####     1.1 Walzen\n",
    ">#####     1.2 Steckerbrett\n",
    "### 2.Steganographie\n",
    ">#####     2.1 Was ist Steganographie?\n",
    ">#####     2.2 Was ist ein Bit?\n",
    ">#####     2.3 Was is ein Pixel? und was ist RGB?\n",
    ">#####     2.4 Wie werden Bilder gespeichert?\n"
   ]
  },
  {
   "cell_type": "code",
   "execution_count": 15,
   "id": "c76f8a33-08ad-43f8-8a7d-30b7cf5494cb",
   "metadata": {
    "editable": true,
    "slideshow": {
     "slide_type": ""
    },
    "tags": []
   },
   "outputs": [],
   "source": [
    "import ipywidgets as widgets\n",
    "from IPython.display import display, HTML, clear_output\n",
    "import enigma\n",
    "import encryptingImage\n",
    "from PIL import Image"
   ]
  },
  {
   "cell_type": "code",
   "execution_count": 16,
   "id": "4621c8e6-0279-4623-b54a-a76a859c631f",
   "metadata": {
    "editable": true,
    "slideshow": {
     "slide_type": "slide"
    },
    "tags": []
   },
   "outputs": [
    {
     "data": {
      "application/vnd.jupyter.widget-view+json": {
       "model_id": "971780d723a9466c9f788c0da865e48b",
       "version_major": 2,
       "version_minor": 0
      },
      "text/plain": [
       "HTML(value='<p style=\"text-align:center; font-size:60px;\"><b>verschlüsseln</b></p>')"
      ]
     },
     "metadata": {},
     "output_type": "display_data"
    },
    {
     "data": {
      "application/vnd.jupyter.widget-view+json": {
       "model_id": "1770fe6020f7410eba40e76ef7bb2b87",
       "version_major": 2,
       "version_minor": 0
      },
      "text/plain": [
       "HTML(value='<p style=\"text-align:center; font-size:40px;\"><b>Walzen</b></p>')"
      ]
     },
     "metadata": {},
     "output_type": "display_data"
    },
    {
     "data": {
      "application/vnd.jupyter.widget-view+json": {
       "model_id": "ef30aa6eaf3a445dab394dca8a5d79df",
       "version_major": 2,
       "version_minor": 0
      },
      "text/plain": [
       "HBox(children=(VBox(children=(Dropdown(description='Walze1:', options=('1', '2', '3', '4', '5'), value='1'), D…"
      ]
     },
     "metadata": {},
     "output_type": "display_data"
    },
    {
     "data": {
      "application/vnd.jupyter.widget-view+json": {
       "model_id": "3fa8c3afeccb4c7da8eb45bd6526722e",
       "version_major": 2,
       "version_minor": 0
      },
      "text/plain": [
       "HTML(value='<p style=\"text-align:center; font-size:40px;\"><b>Steckerbrett</b></p>')"
      ]
     },
     "metadata": {},
     "output_type": "display_data"
    },
    {
     "data": {
      "application/vnd.jupyter.widget-view+json": {
       "model_id": "347cf278f9924c2c94e07050cb7a94d3",
       "version_major": 2,
       "version_minor": 0
      },
      "text/plain": [
       "VBox(children=(Output(), HBox(children=(Button(icon='plus', style=ButtonStyle()),), layout=Layout(justify_cont…"
      ]
     },
     "metadata": {},
     "output_type": "display_data"
    },
    {
     "data": {
      "application/vnd.jupyter.widget-view+json": {
       "model_id": "9eafea65c5f64ea2ac86b59b391a5c54",
       "version_major": 2,
       "version_minor": 0
      },
      "text/plain": [
       "HTML(value='<p style=\"text-align:center; font-size:40px;\"><b>Text</b></p>')"
      ]
     },
     "metadata": {},
     "output_type": "display_data"
    },
    {
     "data": {
      "application/vnd.jupyter.widget-view+json": {
       "model_id": "58c902ceb1e04505aa40b7213b9f8e12",
       "version_major": 2,
       "version_minor": 0
      },
      "text/plain": [
       "HBox(children=(Textarea(value='Hello World', layout=Layout(height='500px', width='500px')),), layout=Layout(ju…"
      ]
     },
     "metadata": {},
     "output_type": "display_data"
    },
    {
     "data": {
      "application/vnd.jupyter.widget-view+json": {
       "model_id": "49e3445a5f5c432c93236b1af3a487ba",
       "version_major": 2,
       "version_minor": 0
      },
      "text/plain": [
       "HTML(value='<p style=\"text-align:center; font-size:40px;\"><b>Bild</b></p>')"
      ]
     },
     "metadata": {},
     "output_type": "display_data"
    },
    {
     "data": {
      "application/vnd.jupyter.widget-view+json": {
       "model_id": "b1abd620bb54447cbd49fbee35c94da8",
       "version_major": 2,
       "version_minor": 0
      },
      "text/plain": [
       "VBox(children=(Output(), HBox(children=(FileUpload(value=(), accept='image/*', description='Upload'),), layout…"
      ]
     },
     "metadata": {},
     "output_type": "display_data"
    },
    {
     "data": {
      "application/vnd.jupyter.widget-view+json": {
       "model_id": "a371800d1ca8459797594ce4c2eba696",
       "version_major": 2,
       "version_minor": 0
      },
      "text/plain": [
       "HBox(children=(Button(description='bestätigen', disabled=True, layout=Layout(height='90px', width='390px'), st…"
      ]
     },
     "metadata": {},
     "output_type": "display_data"
    },
    {
     "data": {
      "application/vnd.jupyter.widget-view+json": {
       "model_id": "1712edd546064303a27de550c4a3323c",
       "version_major": 2,
       "version_minor": 0
      },
      "text/plain": [
       "Output()"
      ]
     },
     "metadata": {},
     "output_type": "display_data"
    }
   ],
   "source": [
    "\n",
    "\n",
    "################################################################################GUI################################################################################\n",
    "\n",
    "display(widgets.HTML(value='<p style=\"text-align:center; font-size:60px;\"><b>verschlüsseln</b></p>'))\n",
    "\n",
    "################################################################################Walzen################################################################################\n",
    "Wl1 = widgets.Dropdown(\n",
    "    options=['1', '2', '3', '4', '5'],\n",
    "    description='Walze1:',\n",
    "    disabled=False,\n",
    ")\n",
    "\n",
    "Wl2 = widgets.Dropdown(\n",
    "    options=[str(x + 1) for x in range(5) if x != int(Wl1.value) - 1],\n",
    "    description='Walze2:',\n",
    "    disabled=False,\n",
    ")\n",
    "\n",
    "Wl3 = widgets.Dropdown(\n",
    "    options=[str(x + 1) for x in range(5) if x != int(Wl1.value) - 1 and x != int(Wl2.value) - 1],\n",
    "    description='Walze3:',\n",
    "    disabled=False,\n",
    ")\n",
    "\n",
    "def update_options_Wl2(change):\n",
    "\n",
    "    options2 = [str(x + 1) for x in range(5) if x != int(Wl1.value) - 1]\n",
    "    Wl2.options = options2\n",
    "\n",
    "def update_options_Wl3(change):\n",
    "\n",
    "    options2 = [str(x + 1) for x in range(5) if x != int(Wl1.value) - 1 and x != int(Wl2.value) - 1]\n",
    "    Wl3.options = options2\n",
    "\n",
    "\n",
    "Wl1.observe(update_options_Wl2, names='value')\n",
    "Wl2.observe(update_options_Wl3, names='value')\n",
    "Wl1.observe(update_options_Wl3, names='value')\n",
    "\n",
    "\n",
    "r1 = widgets.IntSlider(\n",
    "    min=0,\n",
    "    max=25,\n",
    "    step=1,\n",
    "    description='Ringstellung:',\n",
    ")\n",
    "\n",
    "r2 = widgets.IntSlider(\n",
    "    min=0,\n",
    "    max=25,\n",
    "    step=1,\n",
    "    description='Ringstellung:',\n",
    ")\n",
    "\n",
    "r3 = widgets.IntSlider(\n",
    "    min=0,\n",
    "    max=25,\n",
    "    step=1,\n",
    "    description='Ringstellung:',\n",
    ")\n",
    "\n",
    "widget_box_1 = widgets.VBox([Wl1, Wl2, Wl3], layout=widgets.Layout(margin='20px'))\n",
    "widget_box_2 = widgets.VBox([r1, r2, r3], layout=widgets.Layout(margin='20px'))\n",
    "\n",
    "display(widgets.HTML(value='<p style=\"text-align:center; font-size:40px;\"><b>Walzen</b></p>'), widgets.HBox([widget_box_1, widget_box_2], layout=widgets.Layout(justify_content='center')))\n",
    "\n",
    "\n",
    "################################################################################Steckerbrett################################################################################\n",
    "\n",
    "display(widgets.HTML(value='<p style=\"text-align:center; font-size:40px;\"><b>Steckerbrett</b></p>'))\n",
    "\n",
    "ddms = []\n",
    "out = widgets.Output()\n",
    "\n",
    "alphabet = [chr(letter) for letter in range(97, 123)]\n",
    "x=0\n",
    "y=0\n",
    "\n",
    "def add_ddm(b):\n",
    "    global x, y\n",
    "    if len(ddms) >= 13:\n",
    "        return\n",
    "\n",
    "    d1 = widgets.Dropdown(options=alphabet, value = getNotUsed()[0])\n",
    "    d1.observe(lambda change, x=x, y=y: checkForDuplicates(change, x, y), names='value')\n",
    "    x += 1\n",
    "    \n",
    "    d2 = widgets.Dropdown(options=alphabet, value = getNotUsed()[1])\n",
    "    d2.observe(lambda change, x=x, y=y: checkForDuplicates(change, x, y), names='value')\n",
    "    x = 0\n",
    "    y += 1\n",
    "    \n",
    "    \n",
    "    ddm = widgets.HBox([d1, d2], layout=widgets.Layout(justify_content='center'))\n",
    "    ddm.layout.margin = '10px 10px 10px 10px'\n",
    "    ddms.append(ddm)\n",
    "    \n",
    "    with out:\n",
    "        display(ddm)\n",
    "\n",
    "def getNotUsed():\n",
    "    notUsed = [chr(letter) for letter in range(97, 123)]\n",
    "    for ddm in ddms:\n",
    "        for i in range(2):\n",
    "            if ddm.children[i].value in notUsed:\n",
    "                notUsed.remove(ddm.children[i].value)\n",
    "    return notUsed\n",
    "    \n",
    "\n",
    "def checkForDuplicates(change, x, y):\n",
    "    for ddm in range(len(ddms)):\n",
    "        for i in range(2):\n",
    "            if ddm == y and i == x:\n",
    "                continue\n",
    "            if ddms[ddm].children[i].value == change[\"new\"]:\n",
    "                ddms[ddm].children[i].value = change[\"old\"]\n",
    "\n",
    "\n",
    "button = widgets.HBox([widgets.Button(icon='plus')], layout=widgets.Layout(justify_content='center'))\n",
    "    \n",
    "button.children[0].on_click(add_ddm)\n",
    "\n",
    "display(widgets.VBox([out, button]))\n",
    "\n",
    "\n",
    "################################################################################Text################################################################################\n",
    "\n",
    "display(widgets.HTML(value='<p style=\"text-align:center; font-size:40px;\"><b>Text</b></p>'))\n",
    "\n",
    "text = widgets.Textarea(value='Hello World')\n",
    "\n",
    "text.layout.width = '500px'\n",
    "text.layout.height = '500px'\n",
    "\n",
    "tbox = widgets.HBox([text], layout=widgets.Layout(justify_content='center'))\n",
    "\n",
    "display(tbox)\n",
    "\n",
    "\n",
    "################################################################################Image################################################################################\n",
    "\n",
    "display(widgets.HTML(value='<p style=\"text-align:center; font-size:40px;\"><b>Bild</b></p>'))\n",
    "\n",
    "image_out = widgets.Output()\n",
    "\n",
    "\n",
    "def displayImage(change):\n",
    "    confirm.children[0].disabled = False\n",
    "    with image_out:\n",
    "        image_out.clear_output()\n",
    "    image_widget.value = upload_widget.value[0]['content']\n",
    "    with image_out:\n",
    "        display(widgets.HBox([image_widget], layout=widgets.Layout(justify_content='center')))\n",
    "\n",
    "upload_widget = widgets.FileUpload(accept='image/*', multiple=False)\n",
    "upload_widget.observe(displayImage, names='value')\n",
    "\n",
    "image_widget = widgets.Image(format='png', width=300, height=400)\n",
    "\n",
    "upbox = widgets.HBox([upload_widget], layout=widgets.Layout(justify_content='center'))\n",
    "display(widgets.VBox([image_out, upbox]))\n",
    "\n",
    "################################################################################bestätigen################################################################################\n",
    "\n",
    "confirm = widgets.HBox([widgets.Button(description='bestätigen', disabled=True)], layout=widgets.Layout(justify_content='center'))\n",
    "confirm.layout.margin = '20px 10px 10px 10px'\n",
    "confirm.children[0].layout.height = \"90px\"\n",
    "confirm.children[0].layout.width = \"390px\"\n",
    "display(confirm)\n",
    "\n",
    "################################################################################Output####################################################################################\n",
    "output_out = widgets.Output()\n",
    "def code(b):\n",
    "    \n",
    "################################################################################UI####################################################################################\n",
    "    with output_out:\n",
    "        output_out.clear_output()\n",
    "\n",
    "    titleText = widgets.HTML(value='<p style=\"text-align:center; font-size:40px;\"><b>Text</b></p>')\n",
    "    outputText = widgets.Textarea(disabled=True)\n",
    "    \n",
    "    outputText.layout.width = '500px'\n",
    "    outputText.layout.height = '500px'\n",
    "    \n",
    "    OText = widgets.VBox([titleText, outputText], layout=widgets.Layout(justify_content='center'))\n",
    "    OText.layout.margin = '20px 300px 10px 10px'\n",
    "    \n",
    "    \n",
    "    titleImage = widgets.HTML(value='<p style=\"text-align:center; font-size:40px;\"><b>Bild</b></p>')\n",
    "    outputImage = widgets.Image(format='png', width=300, height=400)\n",
    "    \n",
    "    OImage = widgets.VBox([titleImage, outputImage], layout=widgets.Layout(justify_content='center'))\n",
    "    OImage.layout.margin = '20px 10px 10px 300px'\n",
    "#################################################################################Enigma####################################################################################\n",
    "    W = [int(Wl1.value), int(Wl2.value), int(Wl3.value)] #Walzenlage\n",
    "    R = [int(r1.value), int(r2.value), int(r3.value)] #Ringstellung\n",
    "    \n",
    "    pairs = []\n",
    "    for ddm in ddms:\n",
    "        pairs.append([ddm.children[0].value, ddm.children[1].value])\n",
    "\n",
    "    sentence = text.value.lower()\n",
    "\n",
    "    e = enigma.enigma(pairs, W, R)\n",
    "    \n",
    "    outputText.value = e.code(sentence)\n",
    "    \n",
    "################################################################################Image encrypter####################################################################################\n",
    "    imgEnc = encryptingImage.ImageEncrypter(image_widget, outputText.value)\n",
    "    \n",
    "    with open(\"output.png\", \"rb\") as image_file:\n",
    "        image_data = image_file.read()\n",
    "\n",
    "    outputImage.value = image_data\n",
    "\n",
    "    with output_out:\n",
    "        display(widgets.HTML(value='<p style=\"text-align:center; font-size:40px;\"><b>Output</b></p>'))\n",
    "\n",
    "    Output = widgets.HBox([OText, OImage], layout=widgets.Layout(justify_content='center'))\n",
    "    with output_out:\n",
    "        display(Output)\n",
    "\n",
    "display(output_out)\n",
    "\n",
    "\n",
    "confirm.children[0].on_click(code)"
   ]
  },
  {
   "cell_type": "code",
   "execution_count": 8,
   "id": "847a96c8-b83b-4c76-94d7-e44b630f8f67",
   "metadata": {},
   "outputs": [
    {
     "name": "stdout",
     "output_type": "stream",
     "text": [
      "None\n"
     ]
    }
   ],
   "source": [
    "print(Image.open(\"output.png\").__doc__)"
   ]
  },
  {
   "cell_type": "code",
   "execution_count": 4,
   "id": "bc4d6924-4676-4979-aa9d-563d6d529707",
   "metadata": {},
   "outputs": [
    {
     "ename": "IndexError",
     "evalue": "tuple index out of range",
     "output_type": "error",
     "traceback": [
      "\u001b[1;31m---------------------------------------------------------------------------\u001b[0m",
      "\u001b[1;31mIndexError\u001b[0m                                Traceback (most recent call last)",
      "Cell \u001b[1;32mIn[4], line 1\u001b[0m\n\u001b[1;32m----> 1\u001b[0m \u001b[38;5;28mprint\u001b[39m(\u001b[43mupload_widget\u001b[49m\u001b[38;5;241;43m.\u001b[39;49m\u001b[43mvalue\u001b[49m\u001b[43m[\u001b[49m\u001b[38;5;241;43m0\u001b[39;49m\u001b[43m]\u001b[49m\u001b[38;5;241m.\u001b[39mcontent\u001b[38;5;241m.\u001b[39mtobytes())\n",
      "\u001b[1;31mIndexError\u001b[0m: tuple index out of range"
     ]
    }
   ],
   "source": [
    "print(upload_widget.value[0].content.tobytes())"
   ]
  },
  {
   "cell_type": "code",
   "execution_count": 3,
   "id": "c16496ec-ce2a-44fb-b93b-945273726edc",
   "metadata": {},
   "outputs": [
    {
     "name": "stdout",
     "output_type": "stream",
     "text": [
      "True\n"
     ]
    }
   ],
   "source": [
    "print(0 % 6 == 0)"
   ]
  },
  {
   "cell_type": "code",
   "execution_count": null,
   "id": "c6795b3d-2fe4-4dd1-9bc0-6359e00407fa",
   "metadata": {},
   "outputs": [],
   "source": []
  }
 ],
 "metadata": {
  "kernelspec": {
   "display_name": "Python 3 (ipykernel)",
   "language": "python",
   "name": "python3"
  },
  "language_info": {
   "codemirror_mode": {
    "name": "ipython",
    "version": 3
   },
   "file_extension": ".py",
   "mimetype": "text/x-python",
   "name": "python",
   "nbconvert_exporter": "python",
   "pygments_lexer": "ipython3",
   "version": "3.11.6"
  }
 },
 "nbformat": 4,
 "nbformat_minor": 5
}
