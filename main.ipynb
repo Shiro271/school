{
 "cells": [
  {
   "cell_type": "markdown",
   "id": "53d13164-64de-4dd6-b324-098bd2d57847",
   "metadata": {},
   "source": [
    "# Kryptographie\n",
    "***\n",
    "### 1.Exposé\n",
    "### 2. Was ist Kryptographie?\n",
    "### 3. Arbeitsschritte\n",
    ">#####     3.1 Genutzte Software\n",
    "### 4.Enigma\n",
    ">#####     4.1 Historische Hintergrund\n",
    ">#####     4.2 Wie funktioniert die Enigma Maschine?\n",
    ">>#####     4.2.1 Walzen\n",
    ">>#####     4.2.2 Steckerbrett\n",
    ">#####     4.3 Warum war Enigma schwer zu knacken?\n",
    ">>#####     4.3.1 Schlüssel Kombinationen\n",
    ">>#####     4.3.2 Vergleich mit andere Verschlüsselung Methoden\n",
    "### 5.Steganographie\n",
    ">#####     5.1 Was ist Steganographie?\n",
    ">#####     5.2 Was ist ein Bit?\n",
    ">#####     5.3 Was is ein Pixel? und was ist RGB?\n",
    ">#####     5.4 Wie werden Bilder gespeichert?\n",
    ">#####     5.5 Daten in Bilder verstecken\n"
   ]
  },
  {
   "cell_type": "code",
   "execution_count": 2,
   "id": "c76f8a33-08ad-43f8-8a7d-30b7cf5494cb",
   "metadata": {
    "editable": true,
    "slideshow": {
     "slide_type": ""
    },
    "tags": []
   },
   "outputs": [
    {
     "name": "stdout",
     "output_type": "stream",
     "text": [
      "mister sandman\n"
     ]
    }
   ],
   "source": [
    "import ipywidgets as widgets\n",
    "from IPython.display import display, HTML, clear_output\n",
    "import enigma\n",
    "import encryptingImage\n",
    "from PIL import Image"
   ]
  },
  {
   "cell_type": "code",
<<<<<<< HEAD
   "execution_count": 3,
=======
   "execution_count": 4,
>>>>>>> dc5b848a310e2c61d1923f90029e8a8b6406a9e5
   "id": "4621c8e6-0279-4623-b54a-a76a859c631f",
   "metadata": {
    "editable": true,
    "slideshow": {
     "slide_type": "slide"
    },
    "tags": []
   },
   "outputs": [
    {
     "data": {
      "application/vnd.jupyter.widget-view+json": {
<<<<<<< HEAD
       "model_id": "a9c216c7e98c480783a1030d3cb8619c",
       "version_major": 2,
       "version_minor": 0
      },
      "text/plain": [
       "HTML(value='<p style=\"text-align:center; font-size:60px;\"><b>verschlüsseln</b></p>')"
      ]
     },
     "metadata": {},
     "output_type": "display_data"
    },
    {
     "data": {
      "application/vnd.jupyter.widget-view+json": {
       "model_id": "534bf4d2f2da4c768b8e5d4ad3d57ee6",
=======
       "model_id": "df8e24bead4c45b08c1cacf6b159425f",
>>>>>>> dc5b848a310e2c61d1923f90029e8a8b6406a9e5
       "version_major": 2,
       "version_minor": 0
      },
      "text/plain": [
       "HTML(value='<p style=\"text-align:center; font-size:40px;\"><b>Walzen</b></p>')"
      ]
     },
     "metadata": {},
     "output_type": "display_data"
    },
    {
     "data": {
      "application/vnd.jupyter.widget-view+json": {
<<<<<<< HEAD
       "model_id": "1d8e6aa7fb22465f8a12f61c5e930e38",
=======
       "model_id": "b454fb4c458d4c1db734bf6936c01bbb",
>>>>>>> dc5b848a310e2c61d1923f90029e8a8b6406a9e5
       "version_major": 2,
       "version_minor": 0
      },
      "text/plain": [
       "HBox(children=(VBox(children=(Dropdown(description='Walze1:', options=('1', '2', '3', '4', '5'), value='1'), D…"
      ]
     },
     "metadata": {},
     "output_type": "display_data"
    },
    {
     "data": {
      "application/vnd.jupyter.widget-view+json": {
<<<<<<< HEAD
       "model_id": "9ac95230ea4042c08d889cc4beb5dec9",
=======
       "model_id": "a424d50bad094a3fad14d6f409bef794",
>>>>>>> dc5b848a310e2c61d1923f90029e8a8b6406a9e5
       "version_major": 2,
       "version_minor": 0
      },
      "text/plain": [
       "HTML(value='<p style=\"text-align:center; font-size:40px;\"><b>Steckerbrett</b></p>')"
      ]
     },
     "metadata": {},
     "output_type": "display_data"
    },
    {
     "data": {
      "application/vnd.jupyter.widget-view+json": {
<<<<<<< HEAD
       "model_id": "43c381fdddab44f198aec6e92ff5a96f",
=======
       "model_id": "fc2bf0a49eaf43b78ce1b99a0245c8d4",
>>>>>>> dc5b848a310e2c61d1923f90029e8a8b6406a9e5
       "version_major": 2,
       "version_minor": 0
      },
      "text/plain": [
       "VBox(children=(Output(), HBox(children=(Button(icon='plus', style=ButtonStyle()),), layout=Layout(justify_cont…"
      ]
     },
     "metadata": {},
     "output_type": "display_data"
    },
    {
     "data": {
      "application/vnd.jupyter.widget-view+json": {
<<<<<<< HEAD
       "model_id": "d17948b9ab0d48f9b55326c4cb2c5a7a",
=======
       "model_id": "d292eb425ef842768111379a19e08d4a",
>>>>>>> dc5b848a310e2c61d1923f90029e8a8b6406a9e5
       "version_major": 2,
       "version_minor": 0
      },
      "text/plain": [
       "HTML(value='<p style=\"text-align:center; font-size:40px;\"><b>Text</b></p>')"
      ]
     },
     "metadata": {},
     "output_type": "display_data"
    },
    {
     "data": {
      "application/vnd.jupyter.widget-view+json": {
<<<<<<< HEAD
       "model_id": "797ba81c50b649dd8203f554f554994f",
=======
       "model_id": "d38eeffee1594f80ae780f7aa41352f7",
>>>>>>> dc5b848a310e2c61d1923f90029e8a8b6406a9e5
       "version_major": 2,
       "version_minor": 0
      },
      "text/plain": [
       "HBox(children=(Textarea(value='Hello World', layout=Layout(height='500px', width='500px')),), layout=Layout(ju…"
      ]
     },
     "metadata": {},
     "output_type": "display_data"
    },
    {
     "data": {
      "application/vnd.jupyter.widget-view+json": {
<<<<<<< HEAD
       "model_id": "59198cc3e3314eb2a6bb925ad0a217da",
=======
       "model_id": "c2552917943d482fbf9ebb482b1dabfc",
>>>>>>> dc5b848a310e2c61d1923f90029e8a8b6406a9e5
       "version_major": 2,
       "version_minor": 0
      },
      "text/plain": [
       "HTML(value='<p style=\"text-align:center; font-size:40px;\"><b>Bild</b></p>')"
      ]
     },
     "metadata": {},
     "output_type": "display_data"
    },
    {
     "data": {
      "application/vnd.jupyter.widget-view+json": {
<<<<<<< HEAD
       "model_id": "9bf436ef122647e5a013b4dec56b5929",
=======
       "model_id": "23f1d6de1ccb4b149b0016602eff9f25",
>>>>>>> dc5b848a310e2c61d1923f90029e8a8b6406a9e5
       "version_major": 2,
       "version_minor": 0
      },
      "text/plain": [
       "VBox(children=(Output(), HBox(children=(FileUpload(value=(), accept='image/*', description='Upload'),), layout…"
      ]
     },
     "metadata": {},
     "output_type": "display_data"
    },
    {
     "data": {
      "application/vnd.jupyter.widget-view+json": {
<<<<<<< HEAD
       "model_id": "9a2b7a7f407f4ba4b3d374696eacb600",
=======
       "model_id": "430ec4823a36420b992fa374fe19492f",
>>>>>>> dc5b848a310e2c61d1923f90029e8a8b6406a9e5
       "version_major": 2,
       "version_minor": 0
      },
      "text/plain": [
       "HBox(children=(Button(description='bestätigen', layout=Layout(height='90px', width='390px'), style=ButtonStyle…"
      ]
     },
     "metadata": {},
     "output_type": "display_data"
    },
    {
<<<<<<< HEAD
     "data": {
      "application/vnd.jupyter.widget-view+json": {
       "model_id": "84596ff45cb64b8cadc9f18d837e9f7c",
       "version_major": 2,
       "version_minor": 0
      },
      "text/plain": [
       "HTML(value='<p style=\"text-align:center; font-size:40px;\"><b>Output</b></p>')"
      ]
     },
     "metadata": {},
     "output_type": "display_data"
    },
    {
     "data": {
      "application/vnd.jupyter.widget-view+json": {
       "model_id": "2ea3372db9454dc0a367bf63e57e6aca",
       "version_major": 2,
       "version_minor": 0
      },
      "text/plain": [
       "HBox(children=(VBox(children=(HTML(value='<p style=\"text-align:center; font-size:40px;\"><b>Text</b></p>'), Tex…"
      ]
     },
     "metadata": {},
     "output_type": "display_data"
=======
     "name": "stdout",
     "output_type": "stream",
     "text": [
      "cpggx mgumg\n",
      "hello world\n"
     ]
>>>>>>> dc5b848a310e2c61d1923f90029e8a8b6406a9e5
    }
   ],
   "source": [
    "\n",
    "\n",
    "################################################################################GUI################################################################################\n",
    "\n",
    "display(widgets.HTML(value='<p style=\"text-align:center; font-size:60px;\"><b>verschlüsseln</b></p>'))\n",
    "\n",
    "################################################################################Walzen################################################################################\n",
    "Wl1 = widgets.Dropdown(\n",
    "    options=['1', '2', '3', '4', '5'],\n",
    "    description='Walze1:',\n",
    "    disabled=False,\n",
    ")\n",
    "\n",
    "Wl2 = widgets.Dropdown(\n",
    "    options=[str(x + 1) for x in range(5) if x != int(Wl1.value) - 1],\n",
    "    description='Walze2:',\n",
    "    disabled=False,\n",
    ")\n",
    "\n",
    "Wl3 = widgets.Dropdown(\n",
    "    options=[str(x + 1) for x in range(5) if x != int(Wl1.value) - 1 and x != int(Wl2.value) - 1],\n",
    "    description='Walze3:',\n",
    "    disabled=False,\n",
    ")\n",
    "\n",
    "def update_options_Wl2(change):\n",
    "\n",
    "    options2 = [str(x + 1) for x in range(5) if x != int(Wl1.value) - 1]\n",
    "    Wl2.options = options2\n",
    "\n",
    "def update_options_Wl3(change):\n",
    "\n",
    "    options2 = [str(x + 1) for x in range(5) if x != int(Wl1.value) - 1 and x != int(Wl2.value) - 1]\n",
    "    Wl3.options = options2\n",
    "\n",
    "\n",
    "Wl1.observe(update_options_Wl2, names='value')\n",
    "Wl2.observe(update_options_Wl3, names='value')\n",
    "Wl1.observe(update_options_Wl3, names='value')\n",
    "\n",
    "\n",
    "r1 = widgets.IntSlider(\n",
    "    min=0,\n",
    "    max=25,\n",
    "    step=1,\n",
    "    description='Ringstellung:',\n",
    ")\n",
    "\n",
    "r2 = widgets.IntSlider(\n",
    "    min=0,\n",
    "    max=25,\n",
    "    step=1,\n",
    "    description='Ringstellung:',\n",
    ")\n",
    "\n",
    "r3 = widgets.IntSlider(\n",
    "    min=0,\n",
    "    max=25,\n",
    "    step=1,\n",
    "    description='Ringstellung:',\n",
    ")\n",
    "\n",
    "widget_box_1 = widgets.VBox([Wl1, Wl2, Wl3], layout=widgets.Layout(margin='20px'))\n",
    "widget_box_2 = widgets.VBox([r1, r2, r3], layout=widgets.Layout(margin='20px'))\n",
    "\n",
    "display(widgets.HTML(value='<p style=\"text-align:center; font-size:40px;\"><b>Walzen</b></p>'), widgets.HBox([widget_box_1, widget_box_2], layout=widgets.Layout(justify_content='center')))\n",
    "\n",
    "\n",
    "################################################################################Steckerbrett################################################################################\n",
    "\n",
    "display(widgets.HTML(value='<p style=\"text-align:center; font-size:40px;\"><b>Steckerbrett</b></p>'))\n",
    "\n",
    "ddms = []\n",
    "out = widgets.Output()\n",
    "\n",
    "alphabet = [chr(letter) for letter in range(97, 123)]\n",
    "x=0\n",
    "y=0\n",
    "\n",
    "def add_ddm(b):\n",
    "    global x, y\n",
    "    if len(ddms) >= 13:\n",
    "        return\n",
    "\n",
    "    d1 = widgets.Dropdown(options=alphabet, value = getNotUsed()[0])\n",
    "    d1.observe(lambda change, x=x, y=y: checkForDuplicates(change, x, y), names='value')\n",
    "    x += 1\n",
    "    \n",
    "    d2 = widgets.Dropdown(options=alphabet, value = getNotUsed()[1])\n",
    "    d2.observe(lambda change, x=x, y=y: checkForDuplicates(change, x, y), names='value')\n",
    "    x = 0\n",
    "    y += 1\n",
    "    \n",
    "    \n",
    "    ddm = widgets.HBox([d1, d2], layout=widgets.Layout(justify_content='center'))\n",
    "    ddm.layout.margin = '10px 10px 10px 10px'\n",
    "    ddms.append(ddm)\n",
    "    \n",
    "    with out:\n",
    "        display(ddm)\n",
    "\n",
    "def getNotUsed():\n",
    "    notUsed = [chr(letter) for letter in range(97, 123)]\n",
    "    for ddm in ddms:\n",
    "        for i in range(2):\n",
    "            if ddm.children[i].value in notUsed:\n",
    "                notUsed.remove(ddm.children[i].value)\n",
    "    return notUsed\n",
    "    \n",
    "\n",
    "def checkForDuplicates(change, x, y):\n",
    "    for ddm in range(len(ddms)):\n",
    "        for i in range(2):\n",
    "            if ddm == y and i == x:\n",
    "                continue\n",
    "            if ddms[ddm].children[i].value == change[\"new\"]:\n",
    "                ddms[ddm].children[i].value = change[\"old\"]\n",
    "\n",
    "\n",
    "button = widgets.HBox([widgets.Button(icon='plus')], layout=widgets.Layout(justify_content='center'))\n",
    "    \n",
    "button.children[0].on_click(add_ddm)\n",
    "\n",
    "display(widgets.VBox([out, button]))\n",
    "\n",
    "\n",
    "################################################################################Text################################################################################\n",
    "\n",
    "display(widgets.HTML(value='<p style=\"text-align:center; font-size:40px;\"><b>Text</b></p>'))\n",
    "\n",
    "text = widgets.Textarea(value='Hello World')\n",
    "\n",
    "text.layout.width = '500px'\n",
    "text.layout.height = '500px'\n",
    "\n",
    "tbox = widgets.HBox([text], layout=widgets.Layout(justify_content='center'))\n",
    "\n",
    "display(tbox)\n",
    "\n",
    "\n",
    "################################################################################Image################################################################################\n",
    "\n",
    "display(widgets.HTML(value='<p style=\"text-align:center; font-size:40px;\"><b>Bild</b></p>'))\n",
    "\n",
    "image_out = widgets.Output()\n",
    "\n",
    "\n",
    "def displayImage(change):\n",
    "    with image_out:\n",
    "        image_out.clear_output()\n",
    "    image_widget.value = upload_widget.value[0]['content']\n",
    "    with image_out:\n",
    "        display(widgets.HBox([image_widget], layout=widgets.Layout(justify_content='center')))\n",
    "\n",
    "upload_widget = widgets.FileUpload(accept='image/*', multiple=False)\n",
    "upload_widget.observe(displayImage, names='value')\n",
    "\n",
    "image_widget = widgets.Image(format='png', width=300, height=400)\n",
    "\n",
    "upbox = widgets.HBox([upload_widget], layout=widgets.Layout(justify_content='center'))\n",
    "display(widgets.VBox([image_out, upbox]))\n",
    "\n",
    "################################################################################bestätigen################################################################################\n",
    "\n",
    "confirm = widgets.HBox([widgets.Button(description='bestätigen')], layout=widgets.Layout(justify_content='center'))\n",
    "confirm.layout.margin = '20px 10px 10px 10px'\n",
    "confirm.children[0].layout.height = \"90px\"\n",
    "confirm.children[0].layout.width = \"390px\"\n",
    "\n",
    "def code(b):\n",
    "    W = [int(Wl1.value), int(Wl2.value), int(Wl3.value)] #Walzenlage\n",
    "    R = [int(r1.value), int(r2.value), int(r3.value)] #Ringstellung\n",
    "    \n",
    "    pairs = []\n",
    "    for ddm in ddms:\n",
    "        pairs.append([ddm.children[0].value, ddm.children[1].value])\n",
    "\n",
    "    sentence = text.value.lower()\n",
    "\n",
    "    e = enigma.enigma(pairs, W, R)\n",
    "    \n",
    "    outputText.value = e.code(sentence)\n",
    "\n",
    "    imgEnc = encryptingImage.ImageEncrypter(image_widget, outputText.value)\n",
    "    image = Image.open(imgEnc.newImageHexSeq)\n",
    "\n",
    "confirm.children[0].on_click(code)\n",
    "\n",
    "display(confirm)\n",
    "\n",
    "\n",
    "################################################################################Output####################################################################################\n",
    "\n",
    "display(widgets.HTML(value='<p style=\"text-align:center; font-size:40px;\"><b>Output</b></p>'))\n",
    "\n",
    "titleText = widgets.HTML(value='<p style=\"text-align:center; font-size:40px;\"><b>Text</b></p>')\n",
    "outputText = widgets.Textarea(disabled=True)\n",
    "\n",
    "outputText.layout.width = '500px'\n",
    "outputText.layout.height = '500px'\n",
    "\n",
    "OText = widgets.VBox([titleText, outputText], layout=widgets.Layout(justify_content='center'))\n",
    "OText.layout.margin = '20px 300px 10px 10px'\n",
    "\n",
    "\n",
    "titleImage = widgets.HTML(value='<p style=\"text-align:center; font-size:40px;\"><b>Bild</b></p>')\n",
    "outputImage = widgets.Textarea(disabled=True)\n",
    "\n",
    "OImage = widgets.VBox([titleImage, outputImage], layout=widgets.Layout(justify_content='center'))\n",
    "OImage.layout.margin = '20px 10px 10px 300px'\n",
    "\n",
    "\n",
    "Output = widgets.HBox([OText, OImage], layout=widgets.Layout(justify_content='center'))\n",
    "\n",
    "display(Output)"
   ]
  },
  {
   "cell_type": "code",
   "execution_count": 21,
   "id": "847a96c8-b83b-4c76-94d7-e44b630f8f67",
   "metadata": {},
   "outputs": [
    {
     "data": {
      "text/plain": [
       "'Multiline text area widget.'"
      ]
     },
     "execution_count": 21,
     "metadata": {},
     "output_type": "execute_result"
    }
   ],
   "source": [
    "widgets.Textarea.__doc__"
   ]
  },
  {
   "cell_type": "code",
   "execution_count": 36,
   "id": "bc4d6924-4676-4979-aa9d-563d6d529707",
   "metadata": {},
   "outputs": [
    {
     "name": "stdout",
     "output_type": "stream",
     "text": [
      "b'\\x89PNG\\r\\n\\x1a\\n\\x00\\x00\\x00\\rIHDR\\x00\\x00\\x00\\x02\\x00\\x00\\x00\\x02\\x08\\x02\\x00\\x00\\x00\\xfd\\xd4\\x9as\\x00\\x00\\x01\\x84iCCPICC profile\\x00\\x00(\\x91}\\x91=H\\xc3@\\x1c\\xc5_S\\xa5R*\\x0eV\\x10u\\x08R\\x9d\\xecbE\\x1cK\\x15\\x8b`\\xa1\\xb4\\x15Zu0\\xb9\\xf4\\x0b\\x9a4$).\\x8e\\x82k\\xc1\\xc1\\x8f\\xc5\\xaa\\x83\\x8b\\xb3\\xae\\x0e\\xae\\x82 \\xf8\\x01\\xe2\\xea\\xe2\\xa4\\xe8\"%\\xfe/)\\xb4\\x88\\xf5\\xe0\\xb8\\x1f\\xef\\xee=\\xee\\xde\\x01B\\xa3\\xc2T\\xb3\\'\\n\\xa8\\x9ae\\xa4\\xe211\\x9b[\\x15}\\xaf\\xf0c\\x14C\\x18GDb\\xa6\\x9eH/f\\xd0u|\\xdd\\xc3\\xc3\\xd7\\xbb0\\xcf\\xea~\\xee\\xcf\\xd1\\xaf\\xe4M\\x06xD\\xe2(\\xd3\\r\\x8bx\\x83xv\\xd3\\xd29\\xef\\x13\\x07YIR\\x88\\xcf\\x89\\xa7\\x0c\\xba \\xf1#\\xd7e\\x97\\xdf8\\x17\\x1d\\x16xf\\xd0\\xc8\\xa4\\xe6\\x89\\x83\\xc4b\\xb1\\x83\\xe5\\x0ef%C%\\x9e!\\x0e)\\xaaF\\xf9B\\xd6e\\x85\\xf3\\x16g\\xb5Rc\\xad{\\xf2\\x17\\x06\\xf2\\xdaJ\\x9a\\xeb4\\xc7\\x10\\xc7\\x12\\x12HB\\x84\\x8c\\x1a\\xca\\xa8\\xc0B\\x98V\\x8d\\x14\\x13)\\xda\\x8fu\\xf1\\x8f8\\xfe$\\xb9dr\\x95\\xc1\\xc8\\xb1\\x80*TH\\x8e\\x1f\\xfc\\x0f~wk\\x16\"\\xd3nR \\x06\\xf4\\xbe\\xd8\\xf6\\xc7\\x04\\xe0\\xdb\\x05\\x9au\\xdb\\xfe>\\xb6\\xed\\xe6\\t\\xe0}\\x06\\xae\\xb4\\xb6\\xbf\\xda\\x00\\xe6>I\\xaf\\xb7\\xb5\\xd0\\x110\\xb0\\r\\\\\\\\\\xb75y\\x0f\\xb8\\xdc\\x01\\x86\\x9ft\\xc9\\x90\\x1c\\xc9KS(\\x14\\x80\\xf73\\xfa\\xa6\\x1c0x\\x0b\\xf8\\xd7\\xdc\\xdeZ\\xfb8}\\x002\\xd4\\xd5\\xf2\\rpp\\x08L\\x16){\\xbd\\xcb\\xbb\\xfb:{\\xfb\\xf7L\\xab\\xbf\\x1f \\xa1r\\xec\\x1b\\xdd\\xd1o\\x00\\x00\\x00\\tpHYs\\x00\\x00.#\\x00\\x00.#\\x01x\\xa5?v\\x00\\x00\\x00\\x07tIME\\x07\\xe7\\n\\x1b\\x15%\\x05\\x88I\\x0cV\\x00\\x00\\x00\\x19tEXtComment\\x00Created with GIMPW\\x81\\x0e\\x17\\x00\\x00\\x00\\x0bIDAT\\x08\\xd7c`@\\x06\\x00\\x00\\x0e\\x00\\x011\\xe9\\xdd\\x15\\x00\\x00\\x00\\x00IEND\\xaeB`\\x82'\n"
     ]
    }
   ],
   "source": [
    "print(upload_widget.value[0].content.tobytes())"
   ]
  },
  {
   "cell_type": "code",
   "execution_count": null,
   "id": "c16496ec-ce2a-44fb-b93b-945273726edc",
   "metadata": {},
   "outputs": [],
   "source": []
  }
 ],
 "metadata": {
  "kernelspec": {
   "display_name": "Python 3 (ipykernel)",
   "language": "python",
   "name": "python3"
  },
  "language_info": {
   "codemirror_mode": {
    "name": "ipython",
    "version": 3
   },
   "file_extension": ".py",
   "mimetype": "text/x-python",
   "name": "python",
   "nbconvert_exporter": "python",
   "pygments_lexer": "ipython3",
   "version": "3.10.8"
  }
 },
 "nbformat": 4,
 "nbformat_minor": 5
}
