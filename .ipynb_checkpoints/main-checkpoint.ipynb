{
 "cells": [
  {
   "cell_type": "code",
   "execution_count": 1,
   "id": "c76f8a33-08ad-43f8-8a7d-30b7cf5494cb",
   "metadata": {
    "editable": true,
    "slideshow": {
     "slide_type": ""
    },
    "tags": []
   },
   "outputs": [],
   "source": [
    "import ipywidgets as widgets\n",
    "from IPython.display import display, HTML, clear_output\n",
    "import enigma\n",
    "import encryptingImage\n",
    "import decryptingImage\n",
    "from PIL import Image"
   ]
  },
  {
   "cell_type": "markdown",
   "id": "a2714a19-f1ef-48ca-b47a-09f1ac846c5d",
   "metadata": {},
   "source": [
    "<font size=\"7\"> Exposé </font>\n",
    "<br>\n",
    "Das Hauptthema meiner Seminararbeit ist die umfassende Betrachtung von Kryptographie, insbesondere die Enigma-Maschine und der Anwendung von Steganographie. Kryptographie ist die Wissenschaft der Verschlüsselung und Entschlüsselung von Informationen und spielt eine entscheidende Rolle in der Sicherheit von Datenübertragungen.<br><br>\n",
    "\n",
    "Die Herausforderung besteht darin, die Enigma-Maschine, eine historisch bedeutende Verschlüsselungsmaschine, zu verstehen und zu erklären, warum sie so schwer zu knacken war. Darüber hinaus sollen moderne Verschlüsselungsmethoden und ihre Effektivität im Vergleich zur Enigma untersucht werden. Zusätzlich soll untersucht werden, wie Steganographie als eine Form der Geheimhaltung von Informationen genutzt werden kann.<br><br>\n",
    "\n",
    "Das Ziel dieser Arbeit ist es, ein Online-Tool zu entwickeln, das die Funktionsweise der Enigma-Maschine simuliert. Zudem soll ein Verfahren erforscht und implementiert werden, um verschlüsselte Nachrichten durch Steganographie in Bildern zu verstecken. Dieses Tool wird es ermöglichen, die Komplexität von Enigma zu verstehen und eine Mischung von Kryptographie und Steganographie zu erforschen.<br><br>\n",
    "\n",
    "Um dieses Ziel zu erreichen, muss zu erst die Grundlagen der Kryptographie erläutert werden, inklusive ihrer Geschichte, Schlüsselbegriffe und ihrer Bedeutung in der heutigen digitalen Welt. Daraufhin kommt eine Detaillierte Erläuterung der Bestandteile der Enigma-Maschine. Dazu gehört eine genaue Untersuchung und Analyse der Funktionsweise der Walzen und des Steckbretts. Durch ein Vergleich der Enigma-Maschine mit sowohl zeitgenössischen als auch modernen Verschlüsselungsmethoden werde ich in der Arbeit die Einzigartigkeit  der Enigma-Maschine verdeutlichen und erläutern, was die Enigma-Verschlüsselung so kräftig gemacht hat.<br>\n",
    "Der zweite Teil hat zum Ziel die Funktionsweise der Steganographie und ihre Anwendungsbereiche zu erklären. Dazu gehört eine grundlegende Erläuterung des Begriffs \"Bit\" und seine Bedeutung in der digitalen Datenverarbeitung. Zunächst werde ich die grundlegenden Elemente von Bildern, insbesondere Pixel und RGB-Farbkodierung darstellen. Schließlich folgt eine Analyse der Speicherung von Bildinformationen und ihrer digitalen Repräsentation.<br><br>\n",
    "\n",
    "Die Seminararbeit wird somit eine eingehende Analyse der Kryptographie, insbesondere der Enigma-Maschine, sowie der Anwendung von Steganographie bieten. Das entwickelte Online-Tool wird als praktische Anwendung dienen, um die theoretischen Konzepte in der Praxis zu demonstrieren\n",
    "\n"
   ]
  },
  {
   "cell_type": "markdown",
   "id": "53d13164-64de-4dd6-b324-098bd2d57847",
   "metadata": {},
   "source": [
    "# Kryptographie\n",
    "***\n",
    "### 1. [Was ist Kryptographie?](#Kr)\n",
    "### 2. [Enigma](#E)\n",
    ">#####     2.1 Wie funktioniert die Enigma Maschine?\n",
    ">>#####     2.1.1 [Walzen](#W)\n",
    ">>#####     2.1.2 [Steckerbrett](#S)\n",
    ">#####     2.2 Warum war Enigma schwer zu knacken?\n",
    ">>#####     2.2.1 [Schlüssel Kombinationen](#KOMB)\n",
    "### 3.[Steganographie](#S)\n",
    ">#####     3.1 Was ist Steganographie?\n",
    ">#####     3.2 Was ist ein Bit?\n",
    ">#####     3.3 Was is ein Pixel? und was ist RGB?\n",
    ">#####     3.4 Wie werden Bilder gespeichert?\n",
    ">#####     3.5 Daten in Bilder verstecken"
   ]
  },
  {
   "cell_type": "markdown",
   "id": "1af74ab5-3066-4611-8abd-0aa6edbcdd4e",
   "metadata": {},
   "source": [
    "<a id='Kr'></a>\n",
    "<font size=\"7\"> Was ist Kryptographie </font>\n",
    "\n",
    "**Kryptografie** beschäftigt sich mit der Kunst, Informationen geheim zu halten. Diese Informationen oder Daten werden durch Anwendung eines speziellen Algorithmus in eine Form umgewandelt, die nur für befugte Personen lesbar ist. Gleichzeitig erfordern kryptografische Systeme eine Methode, mit der der autorisierte Empfänger die verschlüsselte Nachricht wieder entschlüsseln und lesen kann.\n",
    "\n",
    "Kryptografie hat zwei wichtige Bestandteile: Die **Verschlüsselung** (Encryption) und **Entschlüsselung** (Decryption).\n",
    "**Verschlüsselung** bezeichnet die Umwandlung der Daten von `Klartext` in einen `Geheimtext.` Dabei verwendet man in der Regel sowohl ein Algorithmus, als auch ein `Schlüssel` (Key). Dadurch kann man die verschlüsselte Daten nicht entschlüsseln auch wenn die Algorithmus bekannt ist. Daher wird oft die Robustheit einer Verschlüsselungsmethode mit der Anzahl ihrer `Schlüsselkombinationen` gemessen.\n",
    "**Entschlüsselung** ist das Gegenteil von Verschlüsselung und beschreibt damit die Umwandlung der Daten von `Geheimtext` in `Klartext`\n",
    "\n",
    "Kryptografische Algorithmen können in drei Hauptkategorien eingeteilt werden : Secret-Key-Kryptografie, Public-Key-Kryptografie und Hash-Funktionen.\n",
    "\n",
    ">**Secret-Key-Kryptografie:** Diese Methode wird weit verbreitet eingesetzt, um Informationen zu verschlüsseln und vertraulich zu halten. Ein Beispiel dafür ist die Caesar-Verschlüsselung. Sowohl Sender als auch Empfänger müssen den Algorithmus und den Schlüssel kennen. Diese Methode eignet sich gut für das Versenden vertraulicher Nachrichten über das Internet.\n",
    "\n",
    ">**Public-Key-Kryptografie:** Hier haben Sender und Empfänger jeweils einen Public Key zum Verschlüsseln und einen Private Key zum Entschlüsseln. Durch die mathematische Beziehung zwischen den Schlüsseln ist das Public Key leicht aus dem Private Key zu errechnen, aber nicht umgekehrt. Das ermöglicht die Authentifizierung des Absenders.\n",
    "\n",
    ">**Hash-Funktionen:** Diese sind \"Einbahnstraßen\"-Algorithmen und ermöglichen es, die Originalform einer Nachricht nicht aus dem Hash-Wert zu erreichen. Hash-Funktionen werden aus diesen Grund oft zur Passwortsicherheit eingesetzt, um das Speichern von Klartext-Passwörtern zu vermeiden und die Sicherheit gegenüber Hackerangriffen zu erhöhen.\n",
    "\n",
    "Bei Enigma handelt es sich um ein Secret-Key Verschlüsselungsmethode, wo beide Seiten ein Gemeinsamen Key teilen, was aus einer `Zahlenkombination` und eine Liste aus `Buchstabenpaare` besteht.\n",
    "<br><br><br>"
   ]
  },
  {
   "cell_type": "markdown",
   "id": "f1df7f15-38ad-4180-b1a6-aaf58cf9cde2",
   "metadata": {},
   "source": [
    "---\n",
    "[Quelle 1](https://www.computerwoche.de/a/was-ist-kryptografie,3549974)<br>\n",
    "[Quelle 2](https://www.youtube.com/watch?v=NuyzuNBFWxQ&list=WL&index=26&pp=gAQBiAQB)"
   ]
  },
  {
   "cell_type": "markdown",
   "id": "1151cb4e-5071-4e8f-9293-014361170890",
   "metadata": {},
   "source": [
    "<a id='E'></a>\n",
    "<font size=\"7\"> Enigma </font>"
   ]
  },
  {
   "cell_type": "markdown",
   "id": "f152599d-845f-4cfb-85fe-d7493d2236ce",
   "metadata": {},
   "source": [
    "<center>\n",
    "    <img src=\"Enigma.jpg\" width=\"300\">\n",
    "</center>"
   ]
  },
  {
   "cell_type": "markdown",
   "id": "2a7bd9e5",
   "metadata": {},
   "source": [
    "Enigma ist eine  Rotor-Chiffriermaschinen, die in den 1920er Jahren zur Verschlüsselung von Nachrichten verwendet wurde. Im Zweiten Weltkrieg wurden Enigma-Maschinen von den deutschen  Wehrmacht eingesetzt.\n",
    "\n",
    "**Aufbau:**<br>\n",
    "Die Enigma Maschine besteht aus der Tastatur zur Eingabe, einem Walzensatz und einem Steckerbrett zur Verschlüsselung und einem Glühlampenfeld zur Anzeige.\n",
    "\n",
    "**Funktionsweise**<br>\n",
    "Drückt man eine Buchstabentaste, so fließt elektrischer Strom durch den Walzensatz und lässt eine Anzeigelampe aufleuchten. Der aufleuchtende Buchstabe entspricht der Verschlüsselung des gedrückten Buchstabens. Da sich bei jedem Tastendruck die Walzen weiterdrehen, ändert sich das geheime Schlüsselalphabet nach jedem Buchstaben."
   ]
  },
  {
   "cell_type": "markdown",
   "id": "14c00be6-d796-42df-a4bf-87f416f2bb7b",
   "metadata": {},
   "source": [
    "<center>\n",
    "    <img src=\"Enigma_wiring_kleur.svg.png\" width=\"300\">\n",
    "</center>\n",
    "<center>\n",
    "<span style=\"opacity:0.3;\">Batterie (1), Tastatur (2), Steckerbrett (3, 7) mit Steckkabel (8), Walzensatz (4, 5) mit Umkehrwalze (6) und Lampenfeld (9)</span>\n",
    "</center>"
   ]
  },
  {
   "cell_type": "markdown",
   "id": "cc64e15d-74c7-475f-8904-b12691c231ed",
   "metadata": {},
   "source": [
    "---\n",
    "[Bild1](https://www.google.com/url?sa=i&url=https%3A%2F%2Fde.wikipedia.org%2Fwiki%2FEnigma-Nachbau&psig=AOvVaw1rM7Sp3fzs3uf-R2GXZeWF&ust=1709140000773000&source=images&cd=vfe&opi=89978449&ved=0CBIQjRxqFwoTCOD0--aAzIQDFQAAAAAdAAAAABAJ)<br>\n",
    "[Bild2](https://www.google.com/url?sa=i&url=http%3A%2F%2Fwww.lotus7.de%2Fprograms%2Fenigma2%2Fenigma.htm&psig=AOvVaw3jfp3SweSjSl0kQGY0BfZT&ust=1709137946570000&source=images&cd=vfe&opi=89978449&ved=0CBIQjRxqFwoTCKitzJP5y4QDFQAAAAAdAAAAABAE)<br>\n",
    "[Quelle](https://www.youtube.com/watch?v=ybkkiGtJmkM&t=1033s&pp=ygUOZW5pZ21hIG1hY2hpbmU%3D)"
   ]
  },
  {
   "cell_type": "markdown",
   "id": "6cd5287d",
   "metadata": {},
   "source": [
    "<a id='W'></a>\n",
    "<font size=\"7\"> Die Walzen </font>"
   ]
  },
  {
   "cell_type": "markdown",
   "id": "99d00258-4a61-43ba-9bb0-00eca8046705",
   "metadata": {},
   "source": [
    "<center>\n",
    "    <img src=\"rotor.jpg\" width=\"300\">\n",
    "</center>"
   ]
  },
  {
   "cell_type": "markdown",
   "id": "dc4a3d45",
   "metadata": {},
   "source": [
    "Die `Walzen` sind die drehende Bauteil der Enigma Maschine und sind für das Vertausch von Buchstaben zuständig. Eine Walze hat 26 elektrische Kontakte, die mit 26 Drähte paarweise miteinander verbunden sind. Hier findet der wichtigste Teil der Verschlüsselung statt. Das nennt man `Substitution`, da für jede Buchstabe, die reinkommt eine andere rauskommt. Und da bei einer Eingabe einer Buchstabe nicht immer die gleiche Buchstabe ausgegeben wird, spricht man von einem `polyalphabetische Substitution`. Das ist möglich, weil die Walzen sich nach jeder Eingabe drehen und somit die verbindung zwischen der Buchstaben ändern. Im Gegensatz dazu handelt es sich zum Beispiel bei der Caesar-Verschlüsselung um eine `monoalphabetische Substitution.`<br><br>\n",
    "Die Enigma Maschine Besitzt eine Reihe von Rotoren (oft drei), sodass die Ausgabe einer Rotor die Eingabe der nächsten entspricht. Die Walzen können sowohl vertauscht als auch gewechselt werden mit andere Walzen, wo die Buchstaben in der Walze anders miteinander verbunden sind. Somit erreicht man ein riesige Anzahl von Schlüssel Kombinationen.<br><br>\n",
    "Die erste Walze Dreht sich nach jeder Buchstabe (1 : 1). Die zweite dreht sich immer dann, wenn die erste sich 26 mal gedreht hat (1 : 26). Und die dritte dreht sich wenn die zweite sich 26 mal gedreht hat (1 : 676).<br><br>\n",
    "Die letzte Walze ist aber fest. Sie dreht sich nicht und kann nicht vertauscht werden. Sie wird `Umkehrwalze` genannt und sorgt dafür, dass die Verschlüsselung in den Walzen doppelt statt findet. Sie kehrt das Signal um und lässt sie durch den Walzen nochmal fließen diesmal aber in die andere Richtung. und somit wird die Buchstabe in jeder Walze zwei mal \"vertauscht\"."
   ]
  },
  {
   "cell_type": "markdown",
   "id": "193c92f8",
   "metadata": {},
   "source": [
    "<center>\n",
    "    <img src=\"Enigma Walze.png\" width=\"600\">\n",
    "</center>\n",
    "<center>\n",
    "<span style=\"opacity:0.3;\">BSP: Die Verschlüsselung der Buchstabe \"a\" vor und nach der Drehung</span>\n",
    "</center>"
   ]
  },
  {
   "cell_type": "markdown",
   "id": "6f9caba0-4bbd-41ef-960a-552d7ec04b46",
   "metadata": {},
   "source": [
    "---\n",
    "[Bild1](https://de.wikipedia.org/wiki/Datei:Enigma-rotor-stack-cropped.jpg)<br>\n",
    "[Bild2](https://www.google.com/url?sa=i&url=https%3A%2F%2Fde.m.wikipedia.org%2Fwiki%2FDatei%3AEnigma_wiring_kleur.svg&psig=AOvVaw0GvymSOzoHDADm41zEoQUk&ust=1709138996178000&source=images&cd=vfe&opi=89978449&ved=0CBIQjRxqFwoTCPiIh4j9y4QDFQAAAAAdAAAAABAE)<br>\n",
    "[Quelle](https://www.youtube.com/watch?v=ybkkiGtJmkM&t=1033s&pp=ygUOZW5pZ21hIG1hY2hpbmU%3D)"
   ]
  },
  {
   "cell_type": "markdown",
   "id": "148a8d74-e392-4482-90d2-bd0f7bbbd649",
   "metadata": {},
   "source": [
    "<a id='S'></a>\n",
    "<font size=\"7\"> Steckerbrett </font>"
   ]
  },
  {
   "cell_type": "markdown",
   "id": "43454239-e182-4e8c-a707-8d4911743ea3",
   "metadata": {},
   "source": [
    "<center>\n",
    "    <img src=\"steckerbrett.jpg\" width=\"600\">\n",
    "</center>"
   ]
  },
  {
   "cell_type": "markdown",
   "id": "b20fb339-abe3-4086-87f3-73683e58a6f2",
   "metadata": {},
   "source": [
    "Um eine zusätzliche Ebene der Komplexität hinzufügen, wird das elektrische Signal der Buchstaben vor und nach der Substitution durch die Walzen, durch einen `Steckerbrett` umgeleitet.<br>\n",
    "Die Funktionsweise des Steckerbretts war vergleichsweise einfach, aber dennoch äußerst effektiv. Es besteht aus eine Reihe mit Buchstaben beschriftete `Steckbuchsen` die mit einem Kabel eingesteckt werden könnten. somit könnte man die Buchstaben manuell vertauschen.\n",
    "Ist zum Beispiel die Steckbuchse A mit der Steckbuchse C mit einem Kabel verbunden, so wird das elektrische Signal für A umgleitet in C und umgekehrt.<br>\n",
    "Da man eine beliebige Anzahl zwischen 0 und 13 von Kabeln einstecken kann, steigt die Anzahl der Schlüsselkombinationen enorm. Selbst wenn der Feind eine Enigma-Maschine eroberte oder baute, war es äußerst schwierig die richtige Verbindung auf dem Steckerbrett zu erraten.\n"
   ]
  },
  {
   "cell_type": "markdown",
   "id": "42272db8-099f-4140-9e9f-995760e2528f",
   "metadata": {},
   "source": [
    "---\n",
    "[Bild1](https://www.google.com/url?sa=i&url=https%3A%2F%2Fwww.rrauction.com%2Fauctions%2Flot-detail%2F345832406500159-enigma-machine-c-1943&psig=AOvVaw0zMoukEgrFn6cK0oY4xA9e&ust=1709140512871000&source=images&cd=vfe&opi=89978449&ved=0CBIQjRxqFwoTCIiOnduCzIQDFQAAAAAdAAAAABAt)<br>\n",
    "[Quelle](https://www.youtube.com/watch?v=ybkkiGtJmkM&t=1033s&pp=ygUOZW5pZ21hIG1hY2hpbmU%3D)"
   ]
  },
  {
   "cell_type": "markdown",
   "id": "784fd479-73d1-46e5-9530-f3a4e2fc07c2",
   "metadata": {},
   "source": [
    "<a id='KOMB'></a>\n",
    "<font size=\"7\"> Schlüssel Kombinationen </font>"
   ]
  },
  {
   "cell_type": "markdown",
   "id": "0533bd05-2a54-47e6-ba47-a0f4a6b05293",
   "metadata": {},
   "source": [
    "<center>\n",
    "    <img src=\"cryptographic-key.JPG\" width=\"600\">\n",
    "</center>"
   ]
  },
  {
   "cell_type": "markdown",
   "id": "275a2c1d-e328-49c1-a1b6-d1d099972111",
   "metadata": {},
   "source": [
    "Um kryptographisch verschlüsselte Daten zu entschlüssel benötigt man nicht nur die richtige Algorithmus (in diesem Fall die Enigma Maschine), sondern auch ein Schlüssel.\n",
    "Im Fall von Enigma besteht ein Schlüssel aus drei Zahlen von eins bis fünf, die sich nicht weiderholen dürfen für die Walzenlage, drei Zahlen von eins bis 26 für die Ringstellung"
   ]
  },
  {
   "cell_type": "markdown",
   "id": "dd35c566-2ba6-4ab6-a4fa-7ece2c660be3",
   "metadata": {},
   "source": [
    "<font size=\"7\"> Steganographie </font>"
   ]
  },
  {
   "cell_type": "markdown",
   "id": "b92e2ab4-106b-491e-bf24-9d636e33b60b",
   "metadata": {},
   "source": [
    "<font size=\"5\"> 2. Was ist ein Bit? </font>"
   ]
  },
  {
   "cell_type": "code",
   "execution_count": 2,
   "id": "3b8fb851-f818-4039-9bca-e9a7c9106410",
   "metadata": {},
   "outputs": [
    {
     "data": {
      "application/vnd.jupyter.widget-view+json": {
       "model_id": "",
       "version_major": 2,
       "version_minor": 0
      },
      "text/plain": [
       "HBox(children=(Button(description='0', layout=Layout(height='80px', margin='20px', width='80px'), style=Button…"
      ]
     },
     "metadata": {},
     "output_type": "display_data"
    },
    {
     "data": {
      "application/vnd.jupyter.widget-view+json": {
       "model_id": "",
       "version_major": 2,
       "version_minor": 0
      },
      "text/plain": [
       "HBox(children=(HTML(value='<p style=\"text-align:center; font-size:20px;\"><b>0</b></p>'),), layout=Layout(justi…"
      ]
     },
     "metadata": {},
     "output_type": "display_data"
    }
   ],
   "source": [
    "\n",
    "number = widgets.HTML(value='<p style=\"text-align:center; font-size:20px;\"><b>0</b></p>')\n",
    "\n",
    "def button():\n",
    "\n",
    "    bitButton = widgets.Button(description='0', layout=widgets.Layout(height=\"80px\", width=\"80px\", margin='20px'))\n",
    "    bitButton.style.button_color = 'red'\n",
    "\n",
    "    bitButton.on_click(changeBit)\n",
    "\n",
    "    return bitButton\n",
    "    \n",
    "def changeBit(b):\n",
    "    if b.description == \"0\":\n",
    "        b.description = \"1\"\n",
    "        b.style.button_color = 'green'\n",
    "    else:\n",
    "        b.description = \"0\"\n",
    "        b.style.button_color = 'red'\n",
    "    changeNumber()\n",
    "\n",
    "def changeNumber():\n",
    "    bitSeq = ''.join(button.description for button in buttons)\n",
    "    num = 0\n",
    "    exponent = numButtons - 1\n",
    "    for bit in bitSeq:\n",
    "        if bit == \"1\": num += 2 ** exponent\n",
    "        exponent -= 1\n",
    "\n",
    "    number.value = f'<p style=\"text-align:center; font-size:20px;\"><b>{num}</b></p>'\n",
    "\n",
    "\n",
    "numButtons = 2\n",
    "\n",
    "buttons = [button() for _ in range(numButtons)]\n",
    "\n",
    "bitBox = widgets.HBox(buttons, layout=widgets.Layout(justify_content=\"center\"))\n",
    "numBox = widgets.HBox([number], layout=widgets.Layout(justify_content=\"center\"))\n",
    "display(bitBox)\n",
    "display(numBox)"
   ]
  },
  {
   "cell_type": "code",
   "execution_count": 2,
   "id": "4621c8e6-0279-4623-b54a-a76a859c631f",
   "metadata": {
    "editable": true,
    "slideshow": {
     "slide_type": "slide"
    },
    "tags": []
   },
   "outputs": [
    {
     "data": {
      "application/vnd.jupyter.widget-view+json": {
       "model_id": "2f8534139d604637ab83559d3972f989",
       "version_major": 2,
       "version_minor": 0
      },
      "text/plain": [
       "Tab(children=(VBox(children=(HTML(value='<p style=\"text-align:center; font-size:60px;\"><b>verschlüsseln</b></p…"
      ]
     },
     "metadata": {},
     "output_type": "display_data"
    }
   ],
   "source": [
    "tabs = widgets.Tab()\n",
    "\n",
    "################################################################################GUI################################################################################\n",
    "codeTitle = widgets.HTML(value='<p style=\"text-align:center; font-size:60px;\"><b>verschlüsseln</b></p>')\n",
    "decodeTitle = widgets.HTML(value='<p style=\"text-align:center; font-size:60px;\"><b>entschlüsseln</b></p>')\n",
    "################################################################################Walzen################################################################################\n",
    "Wl1 = widgets.Dropdown(\n",
    "    options=['1', '2', '3', '4', '5'],\n",
    "    description='Walze1:',\n",
    "    disabled=False,\n",
    ")\n",
    "\n",
    "Wl2 = widgets.Dropdown(\n",
    "    options=[str(x + 1) for x in range(5) if x != int(Wl1.value) - 1],\n",
    "    description='Walze2:',\n",
    "    disabled=False,\n",
    ")\n",
    "\n",
    "Wl3 = widgets.Dropdown(\n",
    "    options=[str(x + 1) for x in range(5) if x != int(Wl1.value) - 1 and x != int(Wl2.value) - 1],\n",
    "    description='Walze3:',\n",
    "    disabled=False,\n",
    ")\n",
    "\n",
    "def update_options_Wl2(change):\n",
    "\n",
    "    options2 = [str(x + 1) for x in range(5) if x != int(Wl1.value) - 1]\n",
    "    Wl2.options = options2\n",
    "\n",
    "def update_options_Wl3(change):\n",
    "\n",
    "    options2 = [str(x + 1) for x in range(5) if x != int(Wl1.value) - 1 and x != int(Wl2.value) - 1]\n",
    "    Wl3.options = options2\n",
    "\n",
    "\n",
    "Wl1.observe(update_options_Wl2, names='value')\n",
    "Wl2.observe(update_options_Wl3, names='value')\n",
    "Wl1.observe(update_options_Wl3, names='value')\n",
    "\n",
    "\n",
    "r1 = widgets.IntSlider(\n",
    "    min=1,\n",
    "    max=26,\n",
    "    step=1,\n",
    "    description='Ringstellung:',\n",
    ")\n",
    "\n",
    "r2 = widgets.IntSlider(\n",
    "    min=1,\n",
    "    max=26,\n",
    "    step=1,\n",
    "    description='Ringstellung:',\n",
    ")\n",
    "\n",
    "r3 = widgets.IntSlider(\n",
    "    min=1,\n",
    "    max=26,\n",
    "    step=1,\n",
    "    description='Ringstellung:',\n",
    ")\n",
    "\n",
    "widget_box_1 = widgets.VBox([Wl1, Wl2, Wl3], layout=widgets.Layout(margin='20px'))\n",
    "widget_box_2 = widgets.VBox([r1, r2, r3], layout=widgets.Layout(margin='20px'))\n",
    "\n",
    "rotorTitle = widgets.HTML(value='<p style=\"text-align:center; font-size:40px;\"><b>Walzen</b></p>')\n",
    "rotorBox = widgets.HBox([widget_box_1, widget_box_2], layout=widgets.Layout(justify_content='center'))\n",
    "\n",
    "\n",
    "################################################################################Steckerbrett################################################################################\n",
    "\n",
    "boardTitle = widgets.HTML(value='<p style=\"text-align:center; font-size:40px;\"><b>Steckerbrett</b></p>')\n",
    "\n",
    "ddms = []\n",
    "out = widgets.Output()\n",
    "\n",
    "alphabet = [chr(letter) for letter in range(97, 123)]\n",
    "x=0\n",
    "y=0\n",
    "\n",
    "def add_ddm(b):\n",
    "    global x, y\n",
    "    if len(ddms) >= 13:\n",
    "        return\n",
    "\n",
    "    d1 = widgets.Dropdown(options=alphabet, value = getNotUsed()[0])\n",
    "    d1.observe(lambda change, x=x, y=y: checkForDuplicates(change, x, y), names='value')\n",
    "    x += 1\n",
    "    \n",
    "    d2 = widgets.Dropdown(options=alphabet, value = getNotUsed()[1])\n",
    "    d2.observe(lambda change, x=x, y=y: checkForDuplicates(change, x, y), names='value')\n",
    "    x = 0\n",
    "    y += 1\n",
    "    \n",
    "    \n",
    "    ddm = widgets.HBox([d1, d2], layout=widgets.Layout(justify_content='center'))\n",
    "    ddm.layout.margin = '10px 10px 10px 10px'\n",
    "    ddms.append(ddm)\n",
    "    \n",
    "    with out:\n",
    "        display(ddm)\n",
    "\n",
    "def getNotUsed():\n",
    "    notUsed = [chr(letter) for letter in range(97, 123)]\n",
    "    for ddm in ddms:\n",
    "        for i in range(2):\n",
    "            if ddm.children[i].value in notUsed:\n",
    "                notUsed.remove(ddm.children[i].value)\n",
    "    return notUsed\n",
    "    \n",
    "\n",
    "def checkForDuplicates(change, x, y):\n",
    "    for ddm in range(len(ddms)):\n",
    "        for i in range(2):\n",
    "            if ddm == y and i == x:\n",
    "                continue\n",
    "            if ddms[ddm].children[i].value == change[\"new\"]:\n",
    "                ddms[ddm].children[i].value = change[\"old\"]\n",
    "\n",
    "\n",
    "button = widgets.HBox([widgets.Button(icon='plus')], layout=widgets.Layout(justify_content='center'))\n",
    "    \n",
    "button.children[0].on_click(add_ddm)\n",
    "boardBox = widgets.VBox([out, button])\n",
    "\n",
    "\n",
    "################################################################################Text################################################################################\n",
    "\n",
    "textTitle = widgets.HTML(value='<p style=\"text-align:center; font-size:40px;\"><b>Text</b></p>')\n",
    "\n",
    "text = widgets.Textarea(value='Hello World')\n",
    "\n",
    "text.layout.width = '500px'\n",
    "text.layout.height = '500px'\n",
    "\n",
    "tbox = widgets.HBox([text], layout=widgets.Layout(justify_content='center'))\n",
    "\n",
    "\n",
    "################################################################################Image################################################################################\n",
    "\n",
    "imageTitle = widgets.HTML(value='<p style=\"text-align:center; font-size:40px;\"><b>Bild</b></p>')\n",
    "\n",
    "image_out = widgets.Output()\n",
    "\n",
    "\n",
    "def displayImage(change):\n",
    "    confirm.children[0].disabled = False\n",
    "    with image_out:\n",
    "        image_out.clear_output()\n",
    "    image_widget.value = upload_widget.value[0]['content']\n",
    "    with image_out:\n",
    "        display(widgets.HBox([image_widget], layout=widgets.Layout(justify_content='center')))\n",
    "\n",
    "upload_widget = widgets.FileUpload(accept='image/*', multiple=False)\n",
    "upload_widget.observe(displayImage, names='value')\n",
    "\n",
    "image_widget = widgets.Image(format='png', width=300, height=400)\n",
    "\n",
    "upbox = widgets.HBox([upload_widget], layout=widgets.Layout(justify_content='center'))\n",
    "imageBox = widgets.VBox([image_out, upbox])\n",
    "\n",
    "################################################################################bestätigen################################################################################\n",
    "\n",
    "confirm = widgets.HBox([widgets.Button(description='bestätigen')], layout=widgets.Layout(justify_content='center'))\n",
    "confirm.layout.margin = '20px 10px 10px 10px'\n",
    "confirm.children[0].layout.height = \"90px\"\n",
    "confirm.children[0].layout.width = \"390px\"\n",
    "\n",
    "################################################################################Output####################################################################################\n",
    "codeoutput_out = widgets.Output()\n",
    "\n",
    "def code():\n",
    "    \n",
    "################################################################################UI####################################################################################\n",
    "    with codeoutput_out:\n",
    "        codeoutput_out.clear_output()\n",
    "\n",
    "    titleText = widgets.HTML(value='<p style=\"text-align:center; font-size:40px;\"><b>Text</b></p>')\n",
    "    outputText = widgets.Textarea(disabled=True)\n",
    "    \n",
    "    #outputText.layout.width = '500px'\n",
    "    outputText.layout.height = '200px'\n",
    "    \n",
    "    OText = widgets.VBox([titleText, outputText], layout=widgets.Layout(justify_content='center'))\n",
    "    OText.layout.margin = '0px 100px 0px 0px'\n",
    "    \n",
    "    \n",
    "    titleImage = widgets.HTML(value='<p style=\"text-align:center; font-size:40px;\"><b>Bild</b></p>')\n",
    "    outputImage = widgets.Image(format='png', width=300, height=400)\n",
    "\n",
    "    downloadButton = widgets.Button(icon='download')\n",
    "    downloadBox = widgets.HBox([downloadButton], layout=widgets.Layout(justify_content='center'))\n",
    "    downloadButton.on_click(download_image)\n",
    "    \n",
    "    OImage = widgets.VBox([titleImage, outputImage, downloadBox], layout=widgets.Layout(justify_content='center'))\n",
    "    OImage.layout.margin = '0px 0px 0px 100px'\n",
    "#################################################################################Enigma####################################################################################\n",
    "\n",
    "    sentence = text.value.lower()\n",
    "    outputText.value = enig(sentence)\n",
    "    \n",
    "################################################################################Image encrypter####################################################################################\n",
    "    imgEnc = encryptingImage.ImageEncrypter(image_widget, outputText.value)\n",
    "    \n",
    "    with open(\"output.png\", \"rb\") as image_file:\n",
    "        image_data = image_file.read()\n",
    "\n",
    "    outputImage.value = image_data\n",
    "\n",
    "    with codeoutput_out:\n",
    "        display(widgets.HTML(value='<p style=\"text-align:center; font-size:40px;\"><b>Output</b></p>'))\n",
    "\n",
    "    Output = widgets.HBox([OText, OImage], layout=widgets.Layout(justify_content='center'))\n",
    "    with codeoutput_out:\n",
    "        display(Output)\n",
    "\n",
    "\n",
    "decodeoutput_out = widgets.Output()\n",
    "def decode():\n",
    "\n",
    "################################################################################UI####################################################################################\n",
    "    with decodeoutput_out:\n",
    "        decodeoutput_out.clear_output()\n",
    "\n",
    "    outputText = widgets.Textarea(disabled=True)\n",
    "    outputText.layout.height = '200px'\n",
    "    \n",
    "    OText = widgets.HBox([outputText], layout=widgets.Layout(justify_content='center'))\n",
    "\n",
    "################################################################################Image decrypter####################################################################################\n",
    "    imgDec = decryptingImage.ImageDecrypter(image_widget)\n",
    "#################################################################################Enigma####################################################################################\n",
    "    sentence = imgDec.letters\n",
    "    if sentence[0] == \"D\":\n",
    "        outputText.value = sentence\n",
    "    else:\n",
    "        outputText.value = enig(sentence)\n",
    "    \n",
    "    with decodeoutput_out:\n",
    "        display(widgets.HTML(value='<p style=\"text-align:center; font-size:40px;\"><b>Output</b></p>'))\n",
    "        display(OText)\n",
    "\n",
    "codeTextoutput_out = widgets.Output()\n",
    "def codeText():\n",
    "\n",
    "    with codeTextoutput_out:\n",
    "        codeTextoutput_out.clear_output()\n",
    "    \n",
    "    outputText = widgets.Textarea(disabled=True)\n",
    "    outputText.layout.height = '200px'\n",
    "\n",
    "    textBox = widgets.HBox([outputText], layout=widgets.Layout(justify_content='center'))\n",
    "    outputText.value = enig(text.value)\n",
    "\n",
    "    with codeTextoutput_out:\n",
    "        display(widgets.HTML(value='<p style=\"text-align:center; font-size:40px;\"><b>Output</b></p>'))\n",
    "        display(textBox)\n",
    "\n",
    "def click(b):\n",
    "    if tabIndex == 0:\n",
    "        code()\n",
    "    elif tabIndex == 1:\n",
    "        decode()\n",
    "    elif tabIndex == 2:\n",
    "        codeText()\n",
    "\n",
    "confirm.children[0].on_click(click)\n",
    "\n",
    "\n",
    "def download_image(b):\n",
    "    with open(\"output.png\", \"rb\") as image_file:\n",
    "        image_data = image_file.read()\n",
    "                        #username\n",
    "    with open(\"C:\\\\Users\\\\osama\\\\Downloads\\\\downloaded_image.png\", \"wb\") as dest_file:\n",
    "        dest_file.write(image_data)\n",
    "\n",
    "textCodeTitle = widgets.HTML(value='<p style=\"text-align:center; font-size:40px;\"><b>verschlüsseln und entschlüsseln von Text</b></p>')\n",
    "\n",
    "codeTab = widgets.VBox([codeTitle, rotorTitle, rotorBox, boardTitle, boardBox, textTitle, tbox, imageTitle, imageBox, confirm, codeoutput_out])\n",
    "decodeTab = widgets.VBox([decodeTitle, rotorTitle, rotorBox, boardTitle, boardBox, imageTitle, imageBox, confirm, decodeoutput_out])\n",
    "codeTextTab = widgets.VBox([textCodeTitle, rotorTitle, rotorBox, boardTitle, boardBox, textTitle, tbox, confirm, codeTextoutput_out])\n",
    "\n",
    "\n",
    "tabs.children = [codeTab, decodeTab, codeTextTab]\n",
    "tabs.set_title(0, \"verschlüsseln\")\n",
    "tabs.set_title(1, \"entschlüsseln\")\n",
    "tabs.set_title(2, \"ver/entschlüsseln Text\")\n",
    "\n",
    "\n",
    "tabIndex = 0\n",
    "display(tabs)\n",
    "\n",
    "def checkTab(change):\n",
    "    global tabIndex\n",
    "    \n",
    "    with codeoutput_out:\n",
    "        codeoutput_out.clear_output()\n",
    "    tabIndex = change.new\n",
    "#    if tabIndex == 2:\n",
    "#        confirm.children[0].disabled = False\n",
    "#    else:\n",
    "#        confirm.children[0].disabled = True\n",
    "\n",
    "# Connect the function to the tab's selected_index property\n",
    "tabs.observe(checkTab, names=\"selected_index\")\n",
    "\n",
    "def enig(sentence):\n",
    "    W = [int(Wl1.value), int(Wl2.value), int(Wl3.value)] #Walzenlage\n",
    "    R = [int(r1.value), int(r2.value), int(r3.value)] #Ringstellung\n",
    "    \n",
    "    pairs = []\n",
    "    for ddm in ddms:\n",
    "        pairs.append([ddm.children[0].value, ddm.children[1].value])\n",
    "\n",
    "    e = enigma.enigma(pairs, W, R)\n",
    "    \n",
    "    return e.code(sentence.lower())"
   ]
  },
  {
   "cell_type": "code",
   "execution_count": null,
   "id": "b43dd222-c995-4b3e-920f-bb7fb476c9c9",
   "metadata": {},
   "outputs": [],
   "source": []
  }
 ],
 "metadata": {
  "kernelspec": {
   "display_name": "Python 3 (ipykernel)",
   "language": "python",
   "name": "python3"
  },
  "language_info": {
   "codemirror_mode": {
    "name": "ipython",
    "version": 3
   },
   "file_extension": ".py",
   "mimetype": "text/x-python",
   "name": "python",
   "nbconvert_exporter": "python",
   "pygments_lexer": "ipython3",
   "version": "3.10.13"
  }
 },
 "nbformat": 4,
 "nbformat_minor": 5
}
